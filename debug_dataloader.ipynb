{
 "cells": [
  {
   "cell_type": "code",
   "execution_count": 51,
   "metadata": {
    "tags": []
   },
   "outputs": [
    {
     "name": "stderr",
     "output_type": "stream",
     "text": [
      "(6 Workers) Validate Samples: 100%|████████████████████████████████| 14502/14502 [00:07<00:00, 1936.57it/s]\n",
      "(6 Workers) Validate Samples: 100%|██████████████████████████████████| 1788/1788 [00:00<00:00, 1925.99it/s]\n",
      "(6 Workers) Validate Samples: 100%|████████████████████████████████| 18469/18469 [00:04<00:00, 4468.07it/s]\n"
     ]
    }
   ],
   "source": [
    "import sastvd.helpers.joern as svdj\n",
    "import sastvd.ivdetect.helpers as svdh\n",
    "import sastvd.ivdetect.helpers as ivd\n",
    "from dgl.dataloading import GraphDataLoader\n",
    "\n",
    "train_ds = ivd.BigVulDatasetIVDetect(partition=\"train\")\n",
    "val_ds = ivd.BigVulDatasetIVDetect(partition=\"val\")\n",
    "test_ds = ivd.BigVulDatasetIVDetect(partition=\"test\")"
   ]
  },
  {
   "cell_type": "code",
   "execution_count": 42,
   "metadata": {
    "collapsed": false,
    "jupyter": {
     "outputs_hidden": false
    }
   },
   "outputs": [],
   "source": [
    "from tqdm.auto import trange"
   ]
  },
  {
   "cell_type": "code",
   "execution_count": 43,
   "metadata": {
    "collapsed": false,
    "jupyter": {
     "outputs_hidden": false
    },
    "pycharm": {
     "is_executing": true
    }
   },
   "outputs": [
    {
     "data": {
      "application/vnd.jupyter.widget-view+json": {
       "model_id": "5f58c6aed7e7494db4f85880e4a8a82d",
       "version_major": 2,
       "version_minor": 0
      },
      "text/plain": [
       "  0%|          | 0/1018 [00:00<?, ?it/s]"
      ]
     },
     "metadata": {},
     "output_type": "display_data"
    }
   ],
   "source": [
    "error = []\n",
    "\n",
    "for i in trange(len(val_ds)):\n",
    "    try:\n",
    "        data = val_ds[i]\n",
    "    except Exception as e:\n",
    "        error.append((i,e))"
   ]
  },
  {
   "cell_type": "code",
   "execution_count": 44,
   "metadata": {},
   "outputs": [
    {
     "data": {
      "text/plain": [
       "(4, 1018)"
      ]
     },
     "execution_count": 44,
     "metadata": {},
     "output_type": "execute_result"
    }
   ],
   "source": [
    "len(error), len(val_ds)"
   ]
  },
  {
   "cell_type": "code",
   "execution_count": 45,
   "metadata": {},
   "outputs": [
    {
     "data": {
      "application/vnd.jupyter.widget-view+json": {
       "model_id": "12a432d21f294b758c1cabe037f187d4",
       "version_major": 2,
       "version_minor": 0
      },
      "text/plain": [
       "  0%|          | 0/10246 [00:00<?, ?it/s]"
      ]
     },
     "metadata": {},
     "output_type": "display_data"
    }
   ],
   "source": [
    "test_error = []\n",
    "\n",
    "for i in trange(len(test_ds)):\n",
    "    try:\n",
    "        data = test_ds[i]\n",
    "    except Exception as e:\n",
    "        test_error.append((i,e))"
   ]
  },
  {
   "cell_type": "code",
   "execution_count": 46,
   "metadata": {},
   "outputs": [
    {
     "data": {
      "text/plain": [
       "(0, 10246)"
      ]
     },
     "execution_count": 46,
     "metadata": {},
     "output_type": "execute_result"
    }
   ],
   "source": [
    "len(test_error), len(test_ds)"
   ]
  },
  {
   "cell_type": "code",
   "execution_count": 47,
   "metadata": {},
   "outputs": [
    {
     "data": {
      "application/vnd.jupyter.widget-view+json": {
       "model_id": "e04afcd4aa1e46ba90425d004a7658ac",
       "version_major": 2,
       "version_minor": 0
      },
      "text/plain": [
       "  0%|          | 0/8393 [00:00<?, ?it/s]"
      ]
     },
     "metadata": {},
     "output_type": "display_data"
    }
   ],
   "source": [
    "train_error = []\n",
    "\n",
    "for i in trange(len(train_ds)):\n",
    "    try:\n",
    "        data = train_ds[i]\n",
    "    except Exception as e:\n",
    "        train_error.append((i,e))"
   ]
  },
  {
   "cell_type": "code",
   "execution_count": 48,
   "metadata": {},
   "outputs": [
    {
     "data": {
      "text/plain": [
       "(65, 8393)"
      ]
     },
     "execution_count": 48,
     "metadata": {},
     "output_type": "execute_result"
    }
   ],
   "source": [
    "len(train_error), len(train_ds)"
   ]
  },
  {
   "cell_type": "code",
   "execution_count": 18,
   "metadata": {},
   "outputs": [
    {
     "data": {
      "text/plain": [
       "[]"
      ]
     },
     "execution_count": 18,
     "metadata": {},
     "output_type": "execute_result"
    }
   ],
   "source": [
    "test_error[:10]"
   ]
  },
  {
   "cell_type": "code",
   "execution_count": null,
   "metadata": {},
   "outputs": [],
   "source": [
    "error"
   ]
  },
  {
   "cell_type": "code",
   "execution_count": 38,
   "metadata": {},
   "outputs": [
    {
     "data": {
      "text/plain": [
       "[(4369,\n",
       "  Exception('data point include multiple functions: /home/bryan/linevd/storage/processed/bigvul/before/19183.c')),\n",
       " (4398,\n",
       "  Exception('data point has error during parsing process before!: /home/bryan/linevd/storage/processed/bigvul/before/22504.c')),\n",
       " (4564,\n",
       "  Exception('data point include multiple functions: /home/bryan/linevd/storage/processed/bigvul/before/15176.c')),\n",
       " (4603,\n",
       "  Exception('data point has error during parsing process before!: /home/bryan/linevd/storage/processed/bigvul/before/117133.c')),\n",
       " (4621,\n",
       "  Exception('data point include multiple functions: /home/bryan/linevd/storage/processed/bigvul/before/54460.c')),\n",
       " (4694,\n",
       "  Exception('data point has error during parsing process before!: /home/bryan/linevd/storage/processed/bigvul/before/19328.c')),\n",
       " (4773,\n",
       "  Exception('data point include multiple functions: /home/bryan/linevd/storage/processed/bigvul/before/27203.c')),\n",
       " (4861,\n",
       "  Exception('data point include multiple functions: /home/bryan/linevd/storage/processed/bigvul/before/83912.c')),\n",
       " (4902,\n",
       "  Exception('data point include multiple functions: /home/bryan/linevd/storage/processed/bigvul/before/66270.c')),\n",
       " (4907,\n",
       "  Exception('data point include multiple functions: /home/bryan/linevd/storage/processed/bigvul/before/93207.c'))]"
      ]
     },
     "execution_count": 38,
     "metadata": {},
     "output_type": "execute_result"
    }
   ],
   "source": [
    "train_error[:10]"
   ]
  },
  {
   "cell_type": "code",
   "execution_count": null,
   "metadata": {},
   "outputs": [],
   "source": [
    "import pickle\n",
    "\n",
    "with open('test_error.pickle', 'wb') as handle:\n",
    "    pickle.dump(test_error, handle, protocol=pickle.HIGHEST_PROTOCOL)"
   ]
  },
  {
   "cell_type": "code",
   "execution_count": null,
   "metadata": {},
   "outputs": [],
   "source": [
    "with open('val_error.pickle', 'wb') as handle:\n",
    "    pickle.dump(error, handle, protocol=pickle.HIGHEST_PROTOCOL)"
   ]
  },
  {
   "cell_type": "code",
   "execution_count": null,
   "metadata": {},
   "outputs": [],
   "source": [
    "with open('train_error.pickle', 'wb') as handle:\n",
    "    pickle.dump(train_error, handle, protocol=pickle.HIGHEST_PROTOCOL)"
   ]
  },
  {
   "cell_type": "code",
   "execution_count": null,
   "metadata": {},
   "outputs": [],
   "source": [
    "all_error = test_error + train_error + error"
   ]
  },
  {
   "cell_type": "code",
   "execution_count": null,
   "metadata": {},
   "outputs": [],
   "source": [
    "str(all_error[0][1])"
   ]
  },
  {
   "cell_type": "code",
   "execution_count": 12,
   "metadata": {},
   "outputs": [],
   "source": [
    "import re\n",
    "\n",
    "def get_file_path(input_str):\n",
    "    # split the input string using colon as delimiter\n",
    "    parts = input_str.split(':')\n",
    "\n",
    "    # get the file path from the second part of the split\n",
    "    file_path = parts[1].strip()\n",
    "\n",
    "    return file_path"
   ]
  },
  {
   "cell_type": "code",
   "execution_count": 13,
   "metadata": {},
   "outputs": [
    {
     "ename": "NameError",
     "evalue": "name 'all_error' is not defined",
     "output_type": "error",
     "traceback": [
      "\u001B[0;31m---------------------------------------------------------------------------\u001B[0m",
      "\u001B[0;31mNameError\u001B[0m                                 Traceback (most recent call last)",
      "Cell \u001B[0;32mIn[13], line 1\u001B[0m\n\u001B[0;32m----> 1\u001B[0m \u001B[38;5;28mstr\u001B[39m(\u001B[43mall_error\u001B[49m[\u001B[38;5;241m0\u001B[39m][\u001B[38;5;241m1\u001B[39m])\n",
      "\u001B[0;31mNameError\u001B[0m: name 'all_error' is not defined"
     ]
    }
   ],
   "source": [
    "str(all_error[0][1])"
   ]
  },
  {
   "cell_type": "code",
   "execution_count": 14,
   "metadata": {},
   "outputs": [
    {
     "ename": "NameError",
     "evalue": "name 'all_error' is not defined",
     "output_type": "error",
     "traceback": [
      "\u001B[0;31m---------------------------------------------------------------------------\u001B[0m",
      "\u001B[0;31mNameError\u001B[0m                                 Traceback (most recent call last)",
      "Cell \u001B[0;32mIn[14], line 1\u001B[0m\n\u001B[0;32m----> 1\u001B[0m all_error_str \u001B[38;5;241m=\u001B[39m [\u001B[38;5;28mstr\u001B[39m(i[\u001B[38;5;241m1\u001B[39m]) \u001B[38;5;28;01mfor\u001B[39;00m i \u001B[38;5;129;01min\u001B[39;00m \u001B[43mall_error\u001B[49m]\n",
      "\u001B[0;31mNameError\u001B[0m: name 'all_error' is not defined"
     ]
    }
   ],
   "source": [
    "all_error_str = [str(i[1]) for i in all_error]"
   ]
  },
  {
   "cell_type": "code",
   "execution_count": 15,
   "metadata": {},
   "outputs": [],
   "source": [
    "import os\n",
    "from tqdm.auto import tqdm\n",
    "\n",
    "def delete_files_from_input_strs(input_strs):\n",
    "    for input_str in tqdm(input_strs, desc=\"Deleting files\"):\n",
    "        try:\n",
    "            file_path = get_file_path(input_str)\n",
    "            os.remove(file_path)\n",
    "            # remove nodes/edges\n",
    "            os.remove(file_path + \".edges.json\")\n",
    "            os.remove(file_path + \".nodes.json\")\n",
    "            tqdm.write(f\"File deleted successfully: {file_path}\")\n",
    "        except OSError as error:\n",
    "            tqdm.write(f\"Error deleting file: {file_path} - {error}\")\n",
    "        except IndexError as e:\n",
    "            tqdm.write(f\"Error get_file_path: {input_str} - {e}\")"
   ]
  },
  {
   "cell_type": "code",
   "execution_count": null,
   "metadata": {},
   "outputs": [],
   "source": [
    "foo = 'cannot get nodes, edges: /home/bryan/linevd/storage/processed/bigvul/before/178458.c'\n",
    "get_file_path(foo)"
   ]
  },
  {
   "cell_type": "code",
   "execution_count": null,
   "metadata": {},
   "outputs": [],
   "source": [
    "input_strs = [\n",
    "    \"data point include multiple functions: /home/bryan/linevd/storage/processed/bigvul/before/178557.c\",\n",
    "    \"cannot get nodes, edges: /home/bryan/linevd/storage/processed/bigvul/before/178458.c\"\n",
    "]\n",
    "\n",
    "delete_files_from_input_strs(input_strs)"
   ]
  },
  {
   "cell_type": "code",
   "execution_count": 50,
   "metadata": {},
   "outputs": [
    {
     "data": {
      "application/vnd.jupyter.widget-view+json": {
       "model_id": "968710387bb843c280a40f7ccb279331",
       "version_major": 2,
       "version_minor": 0
      },
      "text/plain": [
       "Deleting files:   0%|          | 0/65 [00:00<?, ?it/s]"
      ]
     },
     "metadata": {},
     "output_type": "display_data"
    },
    {
     "name": "stdout",
     "output_type": "stream",
     "text": [
      "File deleted successfully: /home/bryan/linevd/storage/processed/bigvul/before/77963.c\n",
      "File deleted successfully: /home/bryan/linevd/storage/processed/bigvul/before/87091.c\n",
      "File deleted successfully: /home/bryan/linevd/storage/processed/bigvul/before/45856.c\n",
      "File deleted successfully: /home/bryan/linevd/storage/processed/bigvul/before/64183.c\n",
      "File deleted successfully: /home/bryan/linevd/storage/processed/bigvul/before/83739.c\n",
      "File deleted successfully: /home/bryan/linevd/storage/processed/bigvul/before/89052.c\n",
      "File deleted successfully: /home/bryan/linevd/storage/processed/bigvul/before/57590.c\n",
      "File deleted successfully: /home/bryan/linevd/storage/processed/bigvul/before/87122.c\n",
      "File deleted successfully: /home/bryan/linevd/storage/processed/bigvul/before/96709.c\n",
      "File deleted successfully: /home/bryan/linevd/storage/processed/bigvul/before/26457.c\n",
      "File deleted successfully: /home/bryan/linevd/storage/processed/bigvul/before/81730.c\n",
      "File deleted successfully: /home/bryan/linevd/storage/processed/bigvul/before/70661.c\n",
      "File deleted successfully: /home/bryan/linevd/storage/processed/bigvul/before/172295.c\n",
      "File deleted successfully: /home/bryan/linevd/storage/processed/bigvul/before/170816.c\n",
      "File deleted successfully: /home/bryan/linevd/storage/processed/bigvul/before/47892.c\n",
      "File deleted successfully: /home/bryan/linevd/storage/processed/bigvul/before/66271.c\n",
      "File deleted successfully: /home/bryan/linevd/storage/processed/bigvul/before/70758.c\n",
      "File deleted successfully: /home/bryan/linevd/storage/processed/bigvul/before/8956.c\n",
      "File deleted successfully: /home/bryan/linevd/storage/processed/bigvul/before/30863.c\n",
      "File deleted successfully: /home/bryan/linevd/storage/processed/bigvul/before/19126.c\n",
      "File deleted successfully: /home/bryan/linevd/storage/processed/bigvul/before/35614.c\n",
      "File deleted successfully: /home/bryan/linevd/storage/processed/bigvul/before/70653.c\n",
      "File deleted successfully: /home/bryan/linevd/storage/processed/bigvul/before/26042.c\n",
      "File deleted successfully: /home/bryan/linevd/storage/processed/bigvul/before/73041.c\n",
      "File deleted successfully: /home/bryan/linevd/storage/processed/bigvul/before/55262.c\n",
      "File deleted successfully: /home/bryan/linevd/storage/processed/bigvul/before/82346.c\n",
      "File deleted successfully: /home/bryan/linevd/storage/processed/bigvul/before/24298.c\n",
      "File deleted successfully: /home/bryan/linevd/storage/processed/bigvul/before/71428.c\n",
      "File deleted successfully: /home/bryan/linevd/storage/processed/bigvul/before/27641.c\n",
      "File deleted successfully: /home/bryan/linevd/storage/processed/bigvul/before/45683.c\n",
      "File deleted successfully: /home/bryan/linevd/storage/processed/bigvul/before/44996.c\n",
      "File deleted successfully: /home/bryan/linevd/storage/processed/bigvul/before/75913.c\n",
      "File deleted successfully: /home/bryan/linevd/storage/processed/bigvul/before/92581.c\n",
      "File deleted successfully: /home/bryan/linevd/storage/processed/bigvul/before/27211.c\n",
      "File deleted successfully: /home/bryan/linevd/storage/processed/bigvul/before/64992.c\n",
      "File deleted successfully: /home/bryan/linevd/storage/processed/bigvul/before/42630.c\n",
      "File deleted successfully: /home/bryan/linevd/storage/processed/bigvul/before/10492.c\n",
      "File deleted successfully: /home/bryan/linevd/storage/processed/bigvul/before/87103.c\n",
      "File deleted successfully: /home/bryan/linevd/storage/processed/bigvul/before/164728.c\n",
      "File deleted successfully: /home/bryan/linevd/storage/processed/bigvul/before/97304.c\n",
      "File deleted successfully: /home/bryan/linevd/storage/processed/bigvul/before/73070.c\n",
      "File deleted successfully: /home/bryan/linevd/storage/processed/bigvul/before/87981.c\n",
      "File deleted successfully: /home/bryan/linevd/storage/processed/bigvul/before/44997.c\n",
      "File deleted successfully: /home/bryan/linevd/storage/processed/bigvul/before/43624.c\n",
      "File deleted successfully: /home/bryan/linevd/storage/processed/bigvul/before/88829.c\n",
      "File deleted successfully: /home/bryan/linevd/storage/processed/bigvul/before/33931.c\n",
      "File deleted successfully: /home/bryan/linevd/storage/processed/bigvul/before/26130.c\n",
      "File deleted successfully: /home/bryan/linevd/storage/processed/bigvul/before/64975.c\n",
      "File deleted successfully: /home/bryan/linevd/storage/processed/bigvul/before/73117.c\n",
      "File deleted successfully: /home/bryan/linevd/storage/processed/bigvul/before/96702.c\n",
      "File deleted successfully: /home/bryan/linevd/storage/processed/bigvul/before/64655.c\n",
      "File deleted successfully: /home/bryan/linevd/storage/processed/bigvul/before/69894.c\n",
      "File deleted successfully: /home/bryan/linevd/storage/processed/bigvul/before/25411.c\n",
      "File deleted successfully: /home/bryan/linevd/storage/processed/bigvul/before/95522.c\n",
      "File deleted successfully: /home/bryan/linevd/storage/processed/bigvul/before/74740.c\n",
      "File deleted successfully: /home/bryan/linevd/storage/processed/bigvul/before/87142.c\n",
      "File deleted successfully: /home/bryan/linevd/storage/processed/bigvul/before/77930.c\n",
      "File deleted successfully: /home/bryan/linevd/storage/processed/bigvul/before/73034.c\n",
      "File deleted successfully: /home/bryan/linevd/storage/processed/bigvul/before/84767.c\n",
      "File deleted successfully: /home/bryan/linevd/storage/processed/bigvul/before/52359.c\n",
      "File deleted successfully: /home/bryan/linevd/storage/processed/bigvul/before/51361.c\n",
      "File deleted successfully: /home/bryan/linevd/storage/processed/bigvul/before/39127.c\n",
      "File deleted successfully: /home/bryan/linevd/storage/processed/bigvul/before/55134.c\n",
      "File deleted successfully: /home/bryan/linevd/storage/processed/bigvul/before/92505.c\n",
      "File deleted successfully: /home/bryan/linevd/storage/processed/bigvul/before/27208.c\n"
     ]
    }
   ],
   "source": [
    "delete_files_from_input_strs([str(i[1]) for i in train_error])"
   ]
  },
  {
   "cell_type": "code",
   "execution_count": null,
   "metadata": {},
   "outputs": [],
   "source": [
    "for v, i in enumerate(all_error_str):\n",
    "    if \"\"\"'DataFrame' object has no attribute 'outnode'\"\"\" == i:\n",
    "        print(v)"
   ]
  },
  {
   "cell_type": "code",
   "execution_count": null,
   "metadata": {},
   "outputs": [],
   "source": [
    "for i in all_error:\n",
    "    if i == 95:\n",
    "        print('sd')"
   ]
  },
  {
   "cell_type": "code",
   "execution_count": 66,
   "metadata": {},
   "outputs": [
    {
     "name": "stderr",
     "output_type": "stream",
     "text": [
      "(6 Workers) Validate Samples: 100%|██████████████████████████████| 186159/186159 [00:37<00:00, 4918.67it/s]\n"
     ]
    }
   ],
   "source": [
    "# scan all dataset\n",
    "from glob import glob\n",
    "from pathlib import Path\n",
    "import sastvd as svd\n",
    "import sastvd.helpers.datasets as svdds\n",
    "import sastvd.helpers.dclass as svddc\n",
    "\n",
    "splits=\"default\"\n",
    "finished = [\n",
    "            int(Path(i).name.split(\".\")[0])\n",
    "            for i in glob(str(svd.processed_dir() / \"bigvul/before/*nodes*\"))\n",
    "        ]\n",
    "df = svdds.bigvul(splits=splits)\n",
    "df = df[df.id.isin(finished)]\n",
    "\n",
    "# Filter out samples with no lineNumber from Joern output\n",
    "df[\"valid\"] = svd.dfmp(\n",
    "    df, svddc.BigVulDataset.check_validity, \"id\", desc=\"Validate Samples: \"\n",
    ")\n",
    "df = df[df.valid]"
   ]
  },
  {
   "cell_type": "code",
   "execution_count": 67,
   "metadata": {},
   "outputs": [
    {
     "data": {
      "text/html": [
       "<div>\n",
       "<style scoped>\n",
       "    .dataframe tbody tr th:only-of-type {\n",
       "        vertical-align: middle;\n",
       "    }\n",
       "\n",
       "    .dataframe tbody tr th {\n",
       "        vertical-align: top;\n",
       "    }\n",
       "\n",
       "    .dataframe thead th {\n",
       "        text-align: right;\n",
       "    }\n",
       "</style>\n",
       "<table border=\"1\" class=\"dataframe\">\n",
       "  <thead>\n",
       "    <tr style=\"text-align: right;\">\n",
       "      <th></th>\n",
       "      <th>dataset</th>\n",
       "      <th>id</th>\n",
       "      <th>label</th>\n",
       "      <th>removed</th>\n",
       "      <th>added</th>\n",
       "      <th>diff</th>\n",
       "      <th>before</th>\n",
       "      <th>after</th>\n",
       "      <th>vul</th>\n",
       "      <th>valid</th>\n",
       "    </tr>\n",
       "  </thead>\n",
       "  <tbody>\n",
       "    <tr>\n",
       "      <th>0</th>\n",
       "      <td>bigvul</td>\n",
       "      <td>0</td>\n",
       "      <td>train</td>\n",
       "      <td>[]</td>\n",
       "      <td>[]</td>\n",
       "      <td></td>\n",
       "      <td>static bool check_rodc_critical_attribute(stru...</td>\n",
       "      <td>static bool check_rodc_critical_attribute(stru...</td>\n",
       "      <td>0</td>\n",
       "      <td>True</td>\n",
       "    </tr>\n",
       "    <tr>\n",
       "      <th>1</th>\n",
       "      <td>bigvul</td>\n",
       "      <td>1</td>\n",
       "      <td>test</td>\n",
       "      <td>[]</td>\n",
       "      <td>[]</td>\n",
       "      <td></td>\n",
       "      <td>static int samldb_add_entry(struct samldb_ctx ...</td>\n",
       "      <td>static int samldb_add_entry(struct samldb_ctx ...</td>\n",
       "      <td>0</td>\n",
       "      <td>True</td>\n",
       "    </tr>\n",
       "    <tr>\n",
       "      <th>2</th>\n",
       "      <td>bigvul</td>\n",
       "      <td>2</td>\n",
       "      <td>train</td>\n",
       "      <td>[]</td>\n",
       "      <td>[]</td>\n",
       "      <td></td>\n",
       "      <td>static int samldb_add_entry_callback(struct ld...</td>\n",
       "      <td>static int samldb_add_entry_callback(struct ld...</td>\n",
       "      <td>0</td>\n",
       "      <td>True</td>\n",
       "    </tr>\n",
       "    <tr>\n",
       "      <th>3</th>\n",
       "      <td>bigvul</td>\n",
       "      <td>3</td>\n",
       "      <td>val</td>\n",
       "      <td>[]</td>\n",
       "      <td>[]</td>\n",
       "      <td></td>\n",
       "      <td>static int samldb_add_handle_msDS_IntId(struct...</td>\n",
       "      <td>static int samldb_add_handle_msDS_IntId(struct...</td>\n",
       "      <td>0</td>\n",
       "      <td>True</td>\n",
       "    </tr>\n",
       "    <tr>\n",
       "      <th>4</th>\n",
       "      <td>bigvul</td>\n",
       "      <td>4</td>\n",
       "      <td>test</td>\n",
       "      <td>[]</td>\n",
       "      <td>[]</td>\n",
       "      <td></td>\n",
       "      <td>static int samldb_add_step(struct samldb_ctx *...</td>\n",
       "      <td>static int samldb_add_step(struct samldb_ctx *...</td>\n",
       "      <td>0</td>\n",
       "      <td>True</td>\n",
       "    </tr>\n",
       "  </tbody>\n",
       "</table>\n",
       "</div>"
      ],
      "text/plain": [
       "  dataset  id  label removed added diff  \\\n",
       "0  bigvul   0  train      []    []        \n",
       "1  bigvul   1   test      []    []        \n",
       "2  bigvul   2  train      []    []        \n",
       "3  bigvul   3    val      []    []        \n",
       "4  bigvul   4   test      []    []        \n",
       "\n",
       "                                              before  \\\n",
       "0  static bool check_rodc_critical_attribute(stru...   \n",
       "1  static int samldb_add_entry(struct samldb_ctx ...   \n",
       "2  static int samldb_add_entry_callback(struct ld...   \n",
       "3  static int samldb_add_handle_msDS_IntId(struct...   \n",
       "4  static int samldb_add_step(struct samldb_ctx *...   \n",
       "\n",
       "                                               after  vul  valid  \n",
       "0  static bool check_rodc_critical_attribute(stru...    0   True  \n",
       "1  static int samldb_add_entry(struct samldb_ctx ...    0   True  \n",
       "2  static int samldb_add_entry_callback(struct ld...    0   True  \n",
       "3  static int samldb_add_handle_msDS_IntId(struct...    0   True  \n",
       "4  static int samldb_add_step(struct samldb_ctx *...    0   True  "
      ]
     },
     "execution_count": 67,
     "metadata": {},
     "output_type": "execute_result"
    }
   ],
   "source": [
    "df.head()"
   ]
  },
  {
   "cell_type": "code",
   "execution_count": null,
   "metadata": {},
   "outputs": [],
   "source": [
    "def check_extractable(_id):\n",
    "    \"\"\"Check whether sample can be extract feature. If error, delete it\n",
    "    \"\"\"\n",
    "    valid = 0\n",
    "    try:\n",
    "        svdh.feature_extraction(svddc.BigVulDataset.itempath(_id))\n",
    "    except Exception as E:\n",
    "        print(E, str(BigVulDataset.itempath(_id)))\n",
    "        return False"
   ]
  },
  {
   "cell_type": "code",
   "execution_count": 62,
   "metadata": {},
   "outputs": [
    {
     "name": "stdout",
     "output_type": "stream",
     "text": [
      "0\n"
     ]
    }
   ],
   "source": [
    "for row in tqdm(df.itertuples(), total=df.shape[0], desc=\"Processing rows\"):\n",
    "    data_i = svddc.BigVulDataset.itempath(row.id)\n",
    "    try:\n",
    "        svdh.feature_extraction(data_i)\n",
    "    except:\n",
    "        break"
   ]
  },
  {
   "cell_type": "code",
   "execution_count": 64,
   "metadata": {},
   "outputs": [
    {
     "data": {
      "text/plain": [
       "PosixPath('/home/bryan/linevd/storage/processed/bigvul/before/0.c')"
      ]
     },
     "execution_count": 64,
     "metadata": {},
     "output_type": "execute_result"
    }
   ],
   "source": [
    "svddc.BigVulDataset.itempath(0)"
   ]
  },
  {
   "cell_type": "code",
   "execution_count": 65,
   "metadata": {},
   "outputs": [
    {
     "data": {
      "text/plain": [
       "(   index  id                                             subseq  \\\n",
       " 0      0   1  bool check rodc critical attribute struct ldb ...   \n",
       " 1      1   5  schema Flags Ex ldb msg find attr as uint msg ...   \n",
       " 2      2   6  search Flags ldb msg find attr as uint msg sea...   \n",
       " 3      3   7  rodc filtered flags SEARCH FLAG RODC ATTRIBUTE...   \n",
       " 4      4   8                           SEARCH FLAG CONFIDENTIAL   \n",
       " 5      5  10  if schema Flags Ex SCHEMA FLAG ATTR IS CRITICA...   \n",
       " 6      6  11  search Flags rodc filtered flags rodc filtered...   \n",
       " 7      7  12                                        return true   \n",
       " 8      8  14                                       return false   \n",
       " \n",
       "                                                  ast  \\\n",
       " 0  [[0, 2, 2, 2, 0, 0, 0], [1, 3, 4, 5, 2, 6, 7],...   \n",
       " 1  [[2, 2, 2, 0, 0], [4, 5, 3, 1, 2], [schema Fla...   \n",
       " 2  [[2, 2, 2, 0, 0], [4, 3, 5, 1, 2], [search Fla...   \n",
       " 3  [[2, 0, 0], [3, 1, 2], [rodc filtered flags SE...   \n",
       " 4                                                      \n",
       " 5  [[2, 2, 0, 1], [3, 4, 1, 2], [if schema Flags ...   \n",
       " 6  [[0, 1, 1, 0, 0], [4, 2, 3, 1, 5], [search Fla...   \n",
       " 7                    [[0], [1], [return true, true]]   \n",
       " 8                  [[0], [1], [return false, false]]   \n",
       " \n",
       "                                            nametypes  \\\n",
       " 0                                                      \n",
       " 1             ldb message msg uint32 schema Flags Ex   \n",
       " 2                ldb message msg uint32 search Flags   \n",
       " 3  ANY SEARCH FLAG RODC ATTRIBUTE uint32 rodc fil...   \n",
       " 4                       ANY SEARCH FLAG CONFIDENTIAL   \n",
       " 5  ANY SCHEMA FLAG ATTR IS CRITICAL uint32 schema...   \n",
       " 6     uint32 search Flags uint32 rodc filtered flags   \n",
       " 7                                           ANY true   \n",
       " 8                                          ANY false   \n",
       " \n",
       "                                            data             control  \n",
       " 0  [5.0, 6.0, 7.0, 8.0, 10.0, 11.0, 12.0, 14.0]                  []  \n",
       " 1                              [1.0, 10.0, 6.0]                  []  \n",
       " 2                              [1.0, 11.0, 5.0]                  []  \n",
       " 3                              [8.0, 1.0, 11.0]                  []  \n",
       " 4                                    [1.0, 7.0]                  []  \n",
       " 5                              [1.0, 11.0, 5.0]  [11.0, 12.0, 14.0]  \n",
       " 6                         [1.0, 10.0, 6.0, 7.0]              [10.0]  \n",
       " 7                                         [1.0]              [10.0]  \n",
       " 8                                         [1.0]              [10.0]  ,\n",
       " ([0,\n",
       "   1,\n",
       "   2,\n",
       "   3,\n",
       "   4,\n",
       "   5,\n",
       "   6,\n",
       "   7,\n",
       "   8,\n",
       "   0,\n",
       "   0,\n",
       "   5,\n",
       "   6,\n",
       "   0,\n",
       "   0,\n",
       "   5,\n",
       "   0,\n",
       "   5,\n",
       "   2,\n",
       "   1,\n",
       "   2,\n",
       "   0,\n",
       "   1,\n",
       "   5,\n",
       "   3,\n",
       "   1,\n",
       "   0,\n",
       "   4,\n",
       "   0,\n",
       "   8,\n",
       "   7,\n",
       "   3,\n",
       "   6,\n",
       "   5],\n",
       "  [0,\n",
       "   0,\n",
       "   0,\n",
       "   0,\n",
       "   0,\n",
       "   0,\n",
       "   0,\n",
       "   0,\n",
       "   0,\n",
       "   1,\n",
       "   6,\n",
       "   6,\n",
       "   6,\n",
       "   2,\n",
       "   7,\n",
       "   7,\n",
       "   8,\n",
       "   8,\n",
       "   6,\n",
       "   2,\n",
       "   2,\n",
       "   5,\n",
       "   5,\n",
       "   5,\n",
       "   6,\n",
       "   1,\n",
       "   3,\n",
       "   3,\n",
       "   4,\n",
       "   8,\n",
       "   7,\n",
       "   3,\n",
       "   5,\n",
       "   6]))"
      ]
     },
     "execution_count": 65,
     "metadata": {},
     "output_type": "execute_result"
    }
   ],
   "source": [
    "svdh.feature_extraction(svddc.BigVulDataset.itempath(0))"
   ]
  },
  {
   "cell_type": "code",
   "execution_count": null,
   "metadata": {},
   "outputs": [],
   "source": []
  }
 ],
 "metadata": {
  "kernelspec": {
   "display_name": "Python 3 (ipykernel)",
   "language": "python",
   "name": "python3"
  },
  "language_info": {
   "codemirror_mode": {
    "name": "ipython",
    "version": 3
   },
   "file_extension": ".py",
   "mimetype": "text/x-python",
   "name": "python",
   "nbconvert_exporter": "python",
   "pygments_lexer": "ipython3",
   "version": "3.10.8"
  }
 },
 "nbformat": 4,
 "nbformat_minor": 4
}
