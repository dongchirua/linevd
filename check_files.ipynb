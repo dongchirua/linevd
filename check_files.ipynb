{
 "cells": [
  {
   "cell_type": "code",
   "execution_count": 1,
   "id": "ed0ef5b6-1dc0-4096-8225-8039956ae8a2",
   "metadata": {},
   "outputs": [],
   "source": [
    "import pandas as pd"
   ]
  },
  {
   "cell_type": "code",
   "execution_count": 2,
   "id": "b4769ca2-c1d6-48e8-8af3-7f5a503fe20f",
   "metadata": {},
   "outputs": [],
   "source": [
    "import sastvd.helpers.datasets as svdd"
   ]
  },
  {
   "cell_type": "code",
   "execution_count": 3,
   "id": "80db0be7-b5f5-4042-b329-af36de786fcf",
   "metadata": {},
   "outputs": [],
   "source": [
    "df = svdd.bigvul()"
   ]
  },
  {
   "cell_type": "code",
   "execution_count": 4,
   "id": "72935646-7cb5-451b-8b98-e88f48514ebf",
   "metadata": {},
   "outputs": [
    {
     "data": {
      "text/plain": [
       "187072"
      ]
     },
     "execution_count": 4,
     "metadata": {},
     "output_type": "execute_result"
    }
   ],
   "source": [
    "len(df)"
   ]
  },
  {
   "cell_type": "code",
   "execution_count": 5,
   "id": "07cde622-33e6-4449-8770-d87bac4e0e98",
   "metadata": {},
   "outputs": [
    {
     "data": {
      "text/html": [
       "<div>\n",
       "<style scoped>\n",
       "    .dataframe tbody tr th:only-of-type {\n",
       "        vertical-align: middle;\n",
       "    }\n",
       "\n",
       "    .dataframe tbody tr th {\n",
       "        vertical-align: top;\n",
       "    }\n",
       "\n",
       "    .dataframe thead th {\n",
       "        text-align: right;\n",
       "    }\n",
       "</style>\n",
       "<table border=\"1\" class=\"dataframe\">\n",
       "  <thead>\n",
       "    <tr style=\"text-align: right;\">\n",
       "      <th></th>\n",
       "      <th>dataset</th>\n",
       "      <th>id</th>\n",
       "      <th>label</th>\n",
       "      <th>removed</th>\n",
       "      <th>added</th>\n",
       "      <th>diff</th>\n",
       "      <th>before</th>\n",
       "      <th>after</th>\n",
       "      <th>vul</th>\n",
       "    </tr>\n",
       "  </thead>\n",
       "  <tbody>\n",
       "    <tr>\n",
       "      <th>0</th>\n",
       "      <td>bigvul</td>\n",
       "      <td>0</td>\n",
       "      <td>train</td>\n",
       "      <td>[]</td>\n",
       "      <td>[]</td>\n",
       "      <td></td>\n",
       "      <td>static bool check_rodc_critical_attribute(stru...</td>\n",
       "      <td>static bool check_rodc_critical_attribute(stru...</td>\n",
       "      <td>0</td>\n",
       "    </tr>\n",
       "    <tr>\n",
       "      <th>1</th>\n",
       "      <td>bigvul</td>\n",
       "      <td>1</td>\n",
       "      <td>test</td>\n",
       "      <td>[]</td>\n",
       "      <td>[]</td>\n",
       "      <td></td>\n",
       "      <td>static int samldb_add_entry(struct samldb_ctx ...</td>\n",
       "      <td>static int samldb_add_entry(struct samldb_ctx ...</td>\n",
       "      <td>0</td>\n",
       "    </tr>\n",
       "    <tr>\n",
       "      <th>2</th>\n",
       "      <td>bigvul</td>\n",
       "      <td>2</td>\n",
       "      <td>train</td>\n",
       "      <td>[]</td>\n",
       "      <td>[]</td>\n",
       "      <td></td>\n",
       "      <td>static int samldb_add_entry_callback(struct ld...</td>\n",
       "      <td>static int samldb_add_entry_callback(struct ld...</td>\n",
       "      <td>0</td>\n",
       "    </tr>\n",
       "    <tr>\n",
       "      <th>3</th>\n",
       "      <td>bigvul</td>\n",
       "      <td>3</td>\n",
       "      <td>val</td>\n",
       "      <td>[]</td>\n",
       "      <td>[]</td>\n",
       "      <td></td>\n",
       "      <td>static int samldb_add_handle_msDS_IntId(struct...</td>\n",
       "      <td>static int samldb_add_handle_msDS_IntId(struct...</td>\n",
       "      <td>0</td>\n",
       "    </tr>\n",
       "    <tr>\n",
       "      <th>4</th>\n",
       "      <td>bigvul</td>\n",
       "      <td>4</td>\n",
       "      <td>test</td>\n",
       "      <td>[]</td>\n",
       "      <td>[]</td>\n",
       "      <td></td>\n",
       "      <td>static int samldb_add_step(struct samldb_ctx *...</td>\n",
       "      <td>static int samldb_add_step(struct samldb_ctx *...</td>\n",
       "      <td>0</td>\n",
       "    </tr>\n",
       "  </tbody>\n",
       "</table>\n",
       "</div>"
      ],
      "text/plain": [
       "  dataset  id  label removed added diff  \\\n",
       "0  bigvul   0  train      []    []        \n",
       "1  bigvul   1   test      []    []        \n",
       "2  bigvul   2  train      []    []        \n",
       "3  bigvul   3    val      []    []        \n",
       "4  bigvul   4   test      []    []        \n",
       "\n",
       "                                              before  \\\n",
       "0  static bool check_rodc_critical_attribute(stru...   \n",
       "1  static int samldb_add_entry(struct samldb_ctx ...   \n",
       "2  static int samldb_add_entry_callback(struct ld...   \n",
       "3  static int samldb_add_handle_msDS_IntId(struct...   \n",
       "4  static int samldb_add_step(struct samldb_ctx *...   \n",
       "\n",
       "                                               after  vul  \n",
       "0  static bool check_rodc_critical_attribute(stru...    0  \n",
       "1  static int samldb_add_entry(struct samldb_ctx ...    0  \n",
       "2  static int samldb_add_entry_callback(struct ld...    0  \n",
       "3  static int samldb_add_handle_msDS_IntId(struct...    0  \n",
       "4  static int samldb_add_step(struct samldb_ctx *...    0  "
      ]
     },
     "execution_count": 5,
     "metadata": {},
     "output_type": "execute_result"
    }
   ],
   "source": [
    "df.head()"
   ]
  },
  {
   "cell_type": "code",
   "execution_count": 9,
   "id": "19ae94c6-9920-43ad-9d24-54f5c30b5ce7",
   "metadata": {},
   "outputs": [
    {
     "data": {
      "text/plain": [
       "(9336, 177736)"
      ]
     },
     "execution_count": 9,
     "metadata": {},
     "output_type": "execute_result"
    }
   ],
   "source": [
    "len(df[df.vul == 1 ]), len(df[df.vul == 0 ])"
   ]
  },
  {
   "cell_type": "code",
   "execution_count": 10,
   "id": "75f44488-c49c-4886-b597-80aea670fa4f",
   "metadata": {},
   "outputs": [
    {
     "data": {
      "text/plain": [
       "dataset                                               bigvul\n",
       "id                                                    177736\n",
       "label                                                   test\n",
       "removed                                                   []\n",
       "added      [13, 16, 21, 49, 50, 51, 52, 53, 54, 55, 56, 5...\n",
       "diff        static int samldb_check_user_account_control_...\n",
       "before      static int samldb_check_user_account_control_...\n",
       "after       static int samldb_check_user_account_control_...\n",
       "vul                                                        1\n",
       "Name: 177736, dtype: object"
      ]
     },
     "execution_count": 10,
     "metadata": {},
     "output_type": "execute_result"
    }
   ],
   "source": [
    "df[df.vul == 1 ].iloc[0]"
   ]
  },
  {
   "cell_type": "code",
   "execution_count": 11,
   "id": "a0b23447-b9de-45d6-af3d-66bcdadc6737",
   "metadata": {},
   "outputs": [
    {
     "data": {
      "text/plain": [
       "dataset                                               bigvul\n",
       "id                                                         0\n",
       "label                                                  train\n",
       "removed                                                   []\n",
       "added                                                     []\n",
       "diff                                                        \n",
       "before     static bool check_rodc_critical_attribute(stru...\n",
       "after      static bool check_rodc_critical_attribute(stru...\n",
       "vul                                                        0\n",
       "Name: 0, dtype: object"
      ]
     },
     "execution_count": 11,
     "metadata": {},
     "output_type": "execute_result"
    }
   ],
   "source": [
    "df[df.vul == 0 ].iloc[0]"
   ]
  },
  {
   "cell_type": "code",
   "execution_count": 12,
   "id": "195c9ded-71d0-42d9-8970-516fb8705fd1",
   "metadata": {},
   "outputs": [
    {
     "name": "stdout",
     "output_type": "stream",
     "text": [
      "187072\n"
     ]
    }
   ],
   "source": [
    "!find storage/processed/bigvul/before/ -name \"*.edges.json\" -printf '.' | wc -m"
   ]
  },
  {
   "cell_type": "code",
   "execution_count": 13,
   "id": "2360a0bc-1577-4a01-9352-03c654fce9cf",
   "metadata": {},
   "outputs": [
    {
     "name": "stdout",
     "output_type": "stream",
     "text": [
      "187072\n"
     ]
    }
   ],
   "source": [
    "!find storage/processed/bigvul/before/ -name \"*.nodes.json\" -printf '.' | wc -m"
   ]
  },
  {
   "cell_type": "code",
   "execution_count": 14,
   "id": "ca14f30c-e41e-4db9-92c2-30e04d58a88a",
   "metadata": {},
   "outputs": [
    {
     "name": "stdout",
     "output_type": "stream",
     "text": [
      "187072\n"
     ]
    }
   ],
   "source": [
    "!find storage/processed/bigvul/before/ -name \"*.c\" -printf '.' | wc -m"
   ]
  },
  {
   "cell_type": "code",
   "execution_count": 15,
   "id": "8cce486f-9177-44a1-b45f-e5b42a58faef",
   "metadata": {},
   "outputs": [
    {
     "name": "stdout",
     "output_type": "stream",
     "text": [
      "9336\n"
     ]
    }
   ],
   "source": [
    "!find storage/processed/bigvul/after/ -name \"*.c\" -printf '.' | wc -m"
   ]
  },
  {
   "cell_type": "code",
   "execution_count": 16,
   "id": "d4a9d19c-791e-44b4-9257-7b64544aac8f",
   "metadata": {},
   "outputs": [
    {
     "name": "stdout",
     "output_type": "stream",
     "text": [
      "9336\n"
     ]
    }
   ],
   "source": [
    "!find storage/processed/bigvul/after/ -name \"*.nodes.json\" -printf '.' | wc -m"
   ]
  },
  {
   "cell_type": "code",
   "execution_count": 17,
   "id": "f1173ff8-72b7-4b59-882d-23c8f9080fa8",
   "metadata": {},
   "outputs": [
    {
     "name": "stdout",
     "output_type": "stream",
     "text": [
      "9336\n"
     ]
    }
   ],
   "source": [
    "!find storage/processed/bigvul/after/ -name \"*.edges.json\" -printf '.' | wc -m"
   ]
  },
  {
   "cell_type": "code",
   "execution_count": null,
   "id": "6f123600-174a-480b-9100-b0736983a311",
   "metadata": {},
   "outputs": [],
   "source": []
  }
 ],
 "metadata": {
  "kernelspec": {
   "display_name": "Python 3 (ipykernel)",
   "language": "python",
   "name": "python3"
  },
  "language_info": {
   "codemirror_mode": {
    "name": "ipython",
    "version": 3
   },
   "file_extension": ".py",
   "mimetype": "text/x-python",
   "name": "python",
   "nbconvert_exporter": "python",
   "pygments_lexer": "ipython3",
   "version": "3.9.15"
  }
 },
 "nbformat": 4,
 "nbformat_minor": 5
}
